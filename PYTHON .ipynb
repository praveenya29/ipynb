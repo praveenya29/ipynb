{
 "cells": [
  {
   "cell_type": "code",
   "execution_count": 1,
   "metadata": {},
   "outputs": [
    {
     "name": "stdout",
     "output_type": "stream",
     "text": [
      "Hello world!\n",
      "7\n",
      "8\n",
      "3\n"
     ]
    }
   ],
   "source": [
    "print('Hello world!')\n",
    "print(3+4)\n",
    "print(2**3)\n",
    "print(3)\n"
   ]
  },
  {
   "cell_type": "code",
   "execution_count": 8,
   "metadata": {},
   "outputs": [
    {
     "name": "stdout",
     "output_type": "stream",
     "text": [
      "hello,sujan\n",
      "R u studying Btech in Gitam university? \n"
     ]
    }
   ],
   "source": [
    "person_name = \"sujan\"\n",
    "object_1 = \"Btech\"\n",
    "object_1_place = \"Gitam\"\n",
    "\n",
    "\n",
    "print (\"hello,\" + person_name)\n",
    "print (\"R u studying \" + object_1+ \" in \" + object_1_place+ \" university? \")"
   ]
  },
  {
   "cell_type": "code",
   "execution_count": 22,
   "metadata": {},
   "outputs": [
    {
     "name": "stdout",
     "output_type": "stream",
     "text": [
      "False\n",
      "True\n",
      "13\n",
      "I LOVE pizza\n",
      "7\n"
     ]
    }
   ],
   "source": [
    "sentence = \"I LOVE NACHOS\"\n",
    "print(sentence.islower())\n",
    "print(sentence.isupper())\n",
    "print(len(sentence))\n",
    "print(sentence.replace(\"NACHOS\",\"pizza\"))\n",
    "print(sentence.index(\"N\"))\n"
   ]
  },
  {
   "cell_type": "code",
   "execution_count": 27,
   "metadata": {},
   "outputs": [
    {
     "name": "stdout",
     "output_type": "stream",
     "text": [
      "60\n",
      "24\n",
      "22\n"
     ]
    }
   ],
   "source": [
    "from math import*\n",
    "print((10+10)*3)\n",
    "print(ceil(23.00001))\n",
    "print(floor(22.000001))\n"
   ]
  },
  {
   "cell_type": "code",
   "execution_count": 37,
   "metadata": {},
   "outputs": [
    {
     "name": "stdout",
     "output_type": "stream",
     "text": [
      "What's your name?ghf\n",
      "What's your age?78\n",
      "What do you want to eat?jh\n",
      "hello, I am ghf\n",
      " my age is 78\n",
      " I want a jh\n"
     ]
    }
   ],
   "source": [
    "name=input(\"What's your name?\")\n",
    "age=input(\"What's your age?\")\n",
    "food=input(\"What do you want to eat?\")\n",
    "\n",
    "print(\"hello, I am \"+name+\"\\n my age is \"+age+\"\\n I want a \"+food)"
   ]
  },
  {
   "cell_type": "code",
   "execution_count": 38,
   "metadata": {},
   "outputs": [
    {
     "name": "stdout",
     "output_type": "stream",
     "text": [
      "What is the price of your product70\n",
      "What is the quantity of your product3\n",
      "What is the price of your product10\n",
      "What is the quantity of your product3\n",
      "your total bill is 240.0\n"
     ]
    }
   ],
   "source": [
    "price_product_1=input(\"What is the price of your product\")\n",
    "product_1_quantity=input(\"What is the quantity of your product\")\n",
    "price_product_2=input(\"What is the price of your product\")\n",
    "product_2_quantity=input(\"What is the quantity of your product\")\n",
    "\n",
    "result_product_1=float(price_product_1)*float(product_1_quantity)\n",
    "result_product_2=float(price_product_2)*float(product_2_quantity)\n",
    "\n",
    "result=result_product_1+result_product_2\n",
    "\n",
    "print(\"your total bill is \"+str(result))"
   ]
  },
  {
   "cell_type": "code",
   "execution_count": null,
   "metadata": {},
   "outputs": [],
   "source": [
    "name_1=input(\"enter your name\")\n",
    "name_2=input(\"enter your name\")\n",
    "name_3=input(\"enter your name\")\n",
    "\n",
    "total_slices=input(\"How many slices in the pizza\")\n",
    "total_price=input(\"What is the price of whole pizza?\")\n",
    "\n",
    "\n",
    "percentage_ate_by_name_1=input(+name_1+\" whtat percentage of pizza have u ate\")\n",
    "percentage_ate_by_name_2=input(+name_2+\" whtat percentage of pizza have u ate\")\n",
    "percentage_ate_by_name_3=input(+name_3+\" whtat percentage of pizza have u ate\")\n",
    "\n",
    "number_of_slices_ate_1=float(percentage_ate_by_name_1)*float(total_slices)\n",
    "number_of_slices_ate_2=float(percentage_ate_by_name_2)*float(total_slices)\n",
    "number_of_slices_ate_3=float(percentage_ate_by_name_3)*float(total_slices)\n",
    "\n",
    "price_payed_by_1=float(percentage_ate_by_name_1)*float(total_slices)\n",
    "price_payed_by_2=float(percentage_ate_by_name_2)*float(total_slices)\n",
    "price_payed_by_3=float(percentage_ate_by_name_3)*float(total_slices)\n",
    "\n",
    "print(+name1+\" have ate \"+str(number_of_slices_ate_1)+ \"so, you should pay \"+str(price_payed_by_1))\n",
    "print(+name2+\" have ate \"+str(number_of_slices_ate_2)+ \"so, you should pay \"+str(price_payed_by_2))\n",
    "print(+name3+\" have ate \"+str(number_of_slices_ate_3)+ \"so, you should pay \"+str(price_payed_by_3))"
   ]
  },
  {
   "cell_type": "code",
   "execution_count": 4,
   "metadata": {},
   "outputs": [
    {
     "name": "stdout",
     "output_type": "stream",
     "text": [
      "enter your nameijhs\n",
      "enter your namejsi\n",
      "enter your namejdh\n",
      "How many slices in the pizza4\n",
      "What is the price of whole pizza?3\n"
     ]
    },
    {
     "ename": "TypeError",
     "evalue": "bad operand type for unary +: 'str'",
     "output_type": "error",
     "traceback": [
      "\u001b[1;31m---------------------------------------------------------------------------\u001b[0m",
      "\u001b[1;31mTypeError\u001b[0m                                 Traceback (most recent call last)",
      "\u001b[1;32m<ipython-input-4-2ea601cceb5d>\u001b[0m in \u001b[0;36m<module>\u001b[1;34m\u001b[0m\n\u001b[0;32m      7\u001b[0m \u001b[1;33m\u001b[0m\u001b[0m\n\u001b[0;32m      8\u001b[0m \u001b[1;33m\u001b[0m\u001b[0m\n\u001b[1;32m----> 9\u001b[1;33m \u001b[0mpercentage_ate_by_name_1\u001b[0m\u001b[1;33m=\u001b[0m\u001b[0minput\u001b[0m\u001b[1;33m(\u001b[0m\u001b[1;33m+\u001b[0m\u001b[0mname_1\u001b[0m\u001b[1;33m+\u001b[0m\u001b[1;34m\" whtat percentage of pizza have u ate\"\u001b[0m\u001b[1;33m)\u001b[0m\u001b[1;33m\u001b[0m\u001b[1;33m\u001b[0m\u001b[0m\n\u001b[0m\u001b[0;32m     10\u001b[0m \u001b[0mpercentage_ate_by_name_2\u001b[0m\u001b[1;33m=\u001b[0m\u001b[0minput\u001b[0m\u001b[1;33m(\u001b[0m\u001b[1;33m+\u001b[0m\u001b[0mname_2\u001b[0m\u001b[1;33m+\u001b[0m\u001b[1;34m\" whtat percentage of pizza have u ate\"\u001b[0m\u001b[1;33m)\u001b[0m\u001b[1;33m\u001b[0m\u001b[1;33m\u001b[0m\u001b[0m\n\u001b[0;32m     11\u001b[0m \u001b[0mpercentage_ate_by_name_3\u001b[0m\u001b[1;33m=\u001b[0m\u001b[0minput\u001b[0m\u001b[1;33m(\u001b[0m\u001b[1;33m+\u001b[0m\u001b[0mname_3\u001b[0m\u001b[1;33m+\u001b[0m\u001b[1;34m\" whtat percentage of pizza have u ate\"\u001b[0m\u001b[1;33m)\u001b[0m\u001b[1;33m\u001b[0m\u001b[1;33m\u001b[0m\u001b[0m\n",
      "\u001b[1;31mTypeError\u001b[0m: bad operand type for unary +: 'str'"
     ]
    }
   ],
   "source": [
    "name_1=input(\"enter your name\")\n",
    "name_2=input(\"enter your name\")\n",
    "name_3=input(\"enter your name\")\n",
    "\n",
    "total_slices=input(\"How many slices in the pizza\")\n",
    "total_price=input(\"What is the price of whole pizza?\")\n",
    "\n",
    "\n",
    "percentage_ate_by_name_1=input(+name_1+\" whtat percentage of pizza have u ate\")\n",
    "percentage_ate_by_name_2=input(+name_2+\" whtat percentage of pizza have u ate\")\n",
    "percentage_ate_by_name_3=input(+name_3+\" whtat percentage of pizza have u ate\")\n",
    "\n",
    "number_of_slices_ate_1=float(percentage_ate_by_name_1)*float(total_slices)\n",
    "number_of_slices_ate_2=float(percentage_ate_by_name_2)*float(total_slices)\n",
    "number_of_slices_ate_3=float(percentage_ate_by_name_3)*float(total_slices)"
   ]
  },
  {
   "cell_type": "code",
   "execution_count": 11,
   "metadata": {},
   "outputs": [
    {
     "name": "stdout",
     "output_type": "stream",
     "text": [
      "cashier:How can I help you\n",
      "what is your namepop\n",
      "What do you want to eatfries\n",
      "What u drinkshake\n",
      "cashier:Thank you!\n"
     ]
    }
   ],
   "source": [
    "def per_1(name):\n",
    "    print (name +\":How can I help you\")\n",
    "    \n",
    "def cust(food,drink,name):\n",
    "    name= input(\"what is your name\")\n",
    "    food= input(\"What do you want to eat\")\n",
    "    drink= input(\"What u drink\")\n",
    "\n",
    "def per_1_2(name):\n",
    "    print (name +\":Thank you!\")\n",
    "    \n",
    "per_1 (\"cashier\")\n",
    "cust (\"food\",\"drink\",\"name\")\n",
    "per_1_2 (\"cashier\")"
   ]
  },
  {
   "cell_type": "code",
   "execution_count": 8,
   "metadata": {},
   "outputs": [
    {
     "name": "stdout",
     "output_type": "stream",
     "text": [
      "6\n",
      "2\n",
      "-1\n"
     ]
    }
   ],
   "source": [
    "def calc(a,b,c):\n",
    "    print(a+b+c)\n",
    "    print(a-b+c)\n",
    "    print(a*b-c)\n",
    "    \n",
    "calc(1,2,3)"
   ]
  },
  {
   "cell_type": "code",
   "execution_count": 1,
   "metadata": {},
   "outputs": [],
   "source": [
    "import turtle\n",
    "wn=turtle.Screen()\n",
    "wn.setup(400,400)\n",
    "\n",
    "circle_rad=50\n",
    "rec_width=150\n",
    "rec_height=80\n",
    "\n",
    "alex=turtle.Turtle()\n",
    "alex.shape(\"turtle\")\n",
    "alex.color(\"red\") \n",
    "alex.circle(circle_rad)\n",
    "alex.backward(rec_width/2)\n",
    "alex.forward(rec_width)\n",
    "alex.right(90)\n",
    "alex.forward(rec_height)\n",
    "alex.right(90)\n",
    "alex.forward(rec_width)\n",
    "alex.right(90)\n",
    "alex.forward(rec_height)\n",
    "\n",
    "\n",
    "\n"
   ]
  },
  {
   "cell_type": "code",
   "execution_count": 4,
   "metadata": {},
   "outputs": [
    {
     "name": "stdout",
     "output_type": "stream",
     "text": [
      "3\n",
      "28\n"
     ]
    }
   ],
   "source": [
    "radius=int(input())\n",
    "area=3.14*radius*radius\n",
    "print (int(area))"
   ]
  },
  {
   "cell_type": "code",
   "execution_count": 32,
   "metadata": {},
   "outputs": [
    {
     "name": "stdout",
     "output_type": "stream",
     "text": [
      "2\n",
      "prime\n"
     ]
    }
   ],
   "source": [
    "##prime number\n",
    "\n",
    "n=int(input())\n",
    "flag= False\n",
    "for i in range(2,n):\n",
    "        if(n % i ==0):\n",
    "            flag=True\n",
    "            break\n",
    "            \n",
    "if flag:\n",
    "    print(\"not prime\")\n",
    "else:\n",
    "    print(\"prime\")\n",
    "    \n",
    "    "
   ]
  },
  {
   "cell_type": "code",
   "execution_count": 2,
   "metadata": {},
   "outputs": [
    {
     "name": "stdout",
     "output_type": "stream",
     "text": [
      "5\n",
      "0\n",
      "3\n",
      "6\n",
      "9\n",
      "12\n"
     ]
    }
   ],
   "source": [
    "n=1\n",
    "m=int(input())\n",
    "for i in range (0,m):\n",
    "    print(i*3)\n",
    "    \n",
    "var=[int(i) for i in input().split()[:n]]\n",
    "\n",
    "    "
   ]
  },
  {
   "cell_type": "code",
   "execution_count": 3,
   "metadata": {},
   "outputs": [
    {
     "name": "stdout",
     "output_type": "stream",
     "text": [
      "5\n",
      "2 3 4 5 67 7 8 9 9 7 5 43 \n"
     ]
    }
   ],
   "source": [
    "n=int(input())\n",
    "var=[int(i) for i in input().split()[:n]]"
   ]
  },
  {
   "cell_type": "code",
   "execution_count": 5,
   "metadata": {},
   "outputs": [
    {
     "name": "stdout",
     "output_type": "stream",
     "text": [
      "6\n",
      "9\n",
      "12\n",
      "15\n",
      "201\n"
     ]
    }
   ],
   "source": [
    "for i in range (0,n):\n",
    "    print(var[i]*3)\n",
    "    "
   ]
  },
  {
   "cell_type": "code",
   "execution_count": 4,
   "metadata": {},
   "outputs": [
    {
     "name": "stdout",
     "output_type": "stream",
     "text": [
      "[2, 3, 4, 5, 67]\n"
     ]
    }
   ],
   "source": [
    "print (var)"
   ]
  },
  {
   "cell_type": "code",
   "execution_count": 2,
   "metadata": {},
   "outputs": [
    {
     "name": "stdout",
     "output_type": "stream",
     "text": [
      "hello world\n"
     ]
    }
   ],
   "source": [
    "print(\"hello world\")"
   ]
  },
  {
   "cell_type": "code",
   "execution_count": null,
   "metadata": {},
   "outputs": [],
   "source": [
    "\n"
   ]
  }
 ],
 "metadata": {
  "kernelspec": {
   "display_name": "Python 3",
   "language": "python",
   "name": "python3"
  },
  "language_info": {
   "codemirror_mode": {
    "name": "ipython",
    "version": 3
   },
   "file_extension": ".py",
   "mimetype": "text/x-python",
   "name": "python",
   "nbconvert_exporter": "python",
   "pygments_lexer": "ipython3",
   "version": "3.7.9"
  }
 },
 "nbformat": 4,
 "nbformat_minor": 2
}
